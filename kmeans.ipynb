{
  "metadata": {
    "kernelspec": {
      "name": "python",
      "display_name": "Python (Pyodide)",
      "language": "python"
    },
    "language_info": {
      "codemirror_mode": {
        "name": "python",
        "version": 3
      },
      "file_extension": ".py",
      "mimetype": "text/x-python",
      "name": "python",
      "nbconvert_exporter": "python",
      "pygments_lexer": "ipython3",
      "version": "3.8"
    }
  },
  "nbformat_minor": 4,
  "nbformat": 4,
  "cells": [
    {
      "cell_type": "code",
      "source": "from sklearn.cluster import KMeans\nimport numpy as np\nimport pandas as pd\n\n\n# Charger les données à partir du fichier (remplacez le chemin par le vôtre)\ndata_path = \"train.txt\"\ndf = pd.read_csv(data_path)\ndf.head\n\n",
      "metadata": {
        "trusted": true
      },
      "outputs": [
        {
          "execution_count": 14,
          "output_type": "execute_result",
          "data": {
            "text/plain": "<bound method NDFrame.head of             id  Gender  Age  Driving_License  Region_Code  Previously_Insured  \\\n0            1    Male   44                1         28.0                   0   \n1            2    Male   76                1          3.0                   0   \n2            3    Male   47                1         28.0                   0   \n3            4    Male   21                1         11.0                   1   \n4            5  Female   29                1         41.0                   1   \n...        ...     ...  ...              ...          ...                 ...   \n381104  381105    Male   74                1         26.0                   1   \n381105  381106    Male   30                1         37.0                   1   \n381106  381107    Male   21                1         30.0                   1   \n381107  381108  Female   68                1         14.0                   0   \n381108  381109    Male   46                1         29.0                   0   \n\n       Vehicle_Age Vehicle_Damage  Annual_Premium  Policy_Sales_Channel  \\\n0        > 2 Years            Yes         40454.0                  26.0   \n1         1-2 Year             No         33536.0                  26.0   \n2        > 2 Years            Yes         38294.0                  26.0   \n3         < 1 Year             No         28619.0                 152.0   \n4         < 1 Year             No         27496.0                 152.0   \n...            ...            ...             ...                   ...   \n381104    1-2 Year             No         30170.0                  26.0   \n381105    < 1 Year             No         40016.0                 152.0   \n381106    < 1 Year             No         35118.0                 160.0   \n381107   > 2 Years            Yes         44617.0                 124.0   \n381108    1-2 Year             No         41777.0                  26.0   \n\n        Vintage  Response  \n0           217         1  \n1           183         0  \n2            27         1  \n3           203         0  \n4            39         0  \n...         ...       ...  \n381104       88         0  \n381105      131         0  \n381106      161         0  \n381107       74         0  \n381108      237         0  \n\n[381109 rows x 12 columns]>"
          },
          "metadata": {}
        }
      ],
      "execution_count": 14
    },
    {
      "cell_type": "code",
      "source": "\n#transformation des données texte en numérique\ngender_mapping = {'Male': 0, 'Female': 1}\ndf['Gender'] = df['Gender'].map(gender_mapping)\n\nveh_age_mapping = {'< 1 Year' : 0, '1-2 Year' : 1,'> 2 Years' : 2}\ndf['Vehicle_Age'] = df['Vehicle_Age'].map(veh_age_mapping)\n\nveh_dom_mapping = {'Yes' : 0, 'No' : 1,}\ndf['Vehicle_Damage'] = df['Vehicle_Damage'].map(veh_dom_mapping)\n\ndf.head\n",
      "metadata": {
        "trusted": true
      },
      "outputs": [
        {
          "execution_count": 15,
          "output_type": "execute_result",
          "data": {
            "text/plain": "<bound method NDFrame.head of             id  Gender  Age  Driving_License  Region_Code  Previously_Insured  \\\n0            1       0   44                1         28.0                   0   \n1            2       0   76                1          3.0                   0   \n2            3       0   47                1         28.0                   0   \n3            4       0   21                1         11.0                   1   \n4            5       1   29                1         41.0                   1   \n...        ...     ...  ...              ...          ...                 ...   \n381104  381105       0   74                1         26.0                   1   \n381105  381106       0   30                1         37.0                   1   \n381106  381107       0   21                1         30.0                   1   \n381107  381108       1   68                1         14.0                   0   \n381108  381109       0   46                1         29.0                   0   \n\n        Vehicle_Age  Vehicle_Damage  Annual_Premium  Policy_Sales_Channel  \\\n0                 2               0         40454.0                  26.0   \n1                 1               1         33536.0                  26.0   \n2                 2               0         38294.0                  26.0   \n3                 0               1         28619.0                 152.0   \n4                 0               1         27496.0                 152.0   \n...             ...             ...             ...                   ...   \n381104            1               1         30170.0                  26.0   \n381105            0               1         40016.0                 152.0   \n381106            0               1         35118.0                 160.0   \n381107            2               0         44617.0                 124.0   \n381108            1               1         41777.0                  26.0   \n\n        Vintage  Response  \n0           217         1  \n1           183         0  \n2            27         1  \n3           203         0  \n4            39         0  \n...         ...       ...  \n381104       88         0  \n381105      131         0  \n381106      161         0  \n381107       74         0  \n381108      237         0  \n\n[381109 rows x 12 columns]>"
          },
          "metadata": {}
        }
      ],
      "execution_count": 15
    },
    {
      "cell_type": "code",
      "source": "\n\n\n# Créez un modèle K-Means avec 2 clusters\nkmeans = KMeans(n_clusters=2)\nkmeans.fit(df)\n\n# Obtenez les centres des clusters\ncentroids = kmeans.cluster_centers_\n\n# Obtenez les étiquettes de cluster pour chaque point de données\nlabels = kmeans.labels_\n\nprint(\"Centres des clusters:\")\nprint(centroids)\nprint(\"\\nÉtiquettes de cluster:\")\nprint(labels)",
      "metadata": {
        "trusted": true
      },
      "outputs": [
        {
          "name": "stderr",
          "text": "/lib/python3.11/site-packages/sklearn/cluster/_kmeans.py:1416: FutureWarning: The default value of `n_init` will change from 10 to 'auto' in 1.4. Set the value of `n_init` explicitly to suppress the warning\n  super()._check_params_vs_input(X, default_n_init=10)\n",
          "output_type": "stream"
        },
        {
          "name": "stdout",
          "text": "Centres des clusters:\n[[2.85716499e+05 4.58581867e-01 3.88444330e+01 9.97845754e-01\n  2.63786494e+01 4.59934167e-01 6.09819379e-01 4.96100343e-01\n  3.06005634e+04 1.11966496e+02 1.54252367e+02 1.22524714e-01]\n [9.51620009e+04 4.59897122e-01 3.88006809e+01 9.97893055e-01\n  2.63989901e+01 4.56481876e-01 6.09411369e-01 4.94144165e-01\n  3.05281278e+04 1.12102258e+02 1.54442658e+02 1.22602103e-01]]\n\nÉtiquettes de cluster:\n[1 1 1 ... 0 0 0]\n",
          "output_type": "stream"
        }
      ],
      "execution_count": 18
    },
    {
      "cell_type": "code",
      "source": "",
      "metadata": {
        "trusted": true
      },
      "outputs": [],
      "execution_count": null
    },
    {
      "cell_type": "code",
      "source": "",
      "metadata": {
        "trusted": true
      },
      "outputs": [],
      "execution_count": null
    }
  ]
}