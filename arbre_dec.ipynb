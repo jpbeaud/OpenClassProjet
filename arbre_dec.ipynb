from sklearn.cluster import KMeans
import numpy as np
import pandas as pd


# Charger les données à partir du fichier (remplacez le chemin par le vôtre)
data_path = "train.csv"
df = pd.read_csv(data_path)
df.head()

#transformation des données texte en numérique
gender_mapping = {'Male': 0, 'Female': 1}
df['Gender'] = df['Gender'].map(gender_mapping)

veh_age_mapping = {'< 1 Year' : 0, '1-2 Year' : 1,'> 2 Years' : 2}
df['Vehicle_Age'] = df['Vehicle_Age'].map(veh_age_mapping)

veh_dom_mapping = {'Yes' : 0, 'No' : 1,}
df['Vehicle_Damage'] = df['Vehicle_Damage'].map(veh_dom_mapping)

reponse = df['Response']
df.drop("Response", axis=1, inplace=True)


df.head()
