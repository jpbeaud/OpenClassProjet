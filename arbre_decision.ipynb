{
  "metadata": {
    "kernelspec": {
      "name": "python",
      "display_name": "Python (Pyodide)",
      "language": "python"
    },
    "language_info": {
      "codemirror_mode": {
        "name": "python",
        "version": 3
      },
      "file_extension": ".py",
      "mimetype": "text/x-python",
      "name": "python",
      "nbconvert_exporter": "python",
      "pygments_lexer": "ipython3",
      "version": "3.8"
    }
  },
  "nbformat_minor": 4,
  "nbformat": 4,
  "cells": [
    {
      "cell_type": "code",
      "source": "from sklearn.cluster import KMeans\nimport numpy as np\nimport pandas as pd\n\n\n# Charger les données à partir du fichier (remplacez le chemin par le vôtre)\ndata_path = \"train.csv\"\ndf = pd.read_csv(data_path)\ndf.head()\n\n#transformation des données texte en numérique\ngender_mapping = {'Male': 0, 'Female': 1}\ndf['Gender'] = df['Gender'].map(gender_mapping)\n\nveh_age_mapping = {'< 1 Year' : 0, '1-2 Year' : 1,'> 2 Years' : 2}\ndf['Vehicle_Age'] = df['Vehicle_Age'].map(veh_age_mapping)\n\nveh_dom_mapping = {'Yes' : 0, 'No' : 1,}\ndf['Vehicle_Damage'] = df['Vehicle_Damage'].map(veh_dom_mapping)\n\nreponse = df['Response']\ndf.drop(\"Response\", axis=1, inplace=True)\n\n\ndf.head()",
      "metadata": {
        "trusted": true
      },
      "outputs": [],
      "execution_count": null
    }
  ]
}